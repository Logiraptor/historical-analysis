{
 "cells": [
  {
   "cell_type": "code",
   "execution_count": 2,
   "metadata": {
    "collapsed": true
   },
   "outputs": [],
   "source": [
    "\n",
    "import docker\n",
    "import pandas\n",
    "\n",
    "from analysis import Runner\n",
    "from built_in_analysis import LineCountAnalysis, DiskUsageAnalysis, DiffSizeAnalalysis, FileCountAnalysis\n",
    "from built_in_analysis import FileNameAnalysis\n",
    "from built_in_analysis import Pylint\n"
   ]
  },
  {
   "cell_type": "code",
   "execution_count": 3,
   "metadata": {},
   "outputs": [
    {
     "name": "stdout",
     "output_type": "stream",
     "text": [
      "Running LineCountAnalysis on commit 6ec43e7fa2c9e68d3d31d23c497be77377d0d372 (1/12)\n",
      "Running DiskUsageAnalysis on commit 6ec43e7fa2c9e68d3d31d23c497be77377d0d372 (1/12)\n",
      "Running DiffSizeAnalalysis on commit 6ec43e7fa2c9e68d3d31d23c497be77377d0d372 (1/12)\n",
      "Running FileCountAnalysis on commit 6ec43e7fa2c9e68d3d31d23c497be77377d0d372 (1/12)\n",
      "Running FileNameAnalysis on commit 6ec43e7fa2c9e68d3d31d23c497be77377d0d372 (1/12)\n",
      "Running Pylint on commit 6ec43e7fa2c9e68d3d31d23c497be77377d0d372 (1/12)\n",
      "Running LineCountAnalysis on commit 17f9a985645f4e9f756fa8a35cf1fdd37e5e323a (2/12)\n",
      "Running DiskUsageAnalysis on commit 17f9a985645f4e9f756fa8a35cf1fdd37e5e323a (2/12)\n",
      "Running DiffSizeAnalalysis on commit 17f9a985645f4e9f756fa8a35cf1fdd37e5e323a (2/12)\n",
      "Running FileCountAnalysis on commit 17f9a985645f4e9f756fa8a35cf1fdd37e5e323a (2/12)\n",
      "Running FileNameAnalysis on commit 17f9a985645f4e9f756fa8a35cf1fdd37e5e323a (2/12)\n",
      "Running Pylint on commit 17f9a985645f4e9f756fa8a35cf1fdd37e5e323a (2/12)\n",
      "Running LineCountAnalysis on commit fa5396130dd09ed44c1aa0ff1a8a44a0f4632555 (3/12)\n",
      "Running DiskUsageAnalysis on commit fa5396130dd09ed44c1aa0ff1a8a44a0f4632555 (3/12)\n",
      "Running DiffSizeAnalalysis on commit fa5396130dd09ed44c1aa0ff1a8a44a0f4632555 (3/12)\n",
      "Running FileCountAnalysis on commit fa5396130dd09ed44c1aa0ff1a8a44a0f4632555 (3/12)\n",
      "Running FileNameAnalysis on commit fa5396130dd09ed44c1aa0ff1a8a44a0f4632555 (3/12)\n",
      "Running Pylint on commit fa5396130dd09ed44c1aa0ff1a8a44a0f4632555 (3/12)\n",
      "Running LineCountAnalysis on commit 865c306e063a4074aaaac016f6b2eaaae37751d9 (4/12)\n",
      "Running DiskUsageAnalysis on commit 865c306e063a4074aaaac016f6b2eaaae37751d9 (4/12)\n",
      "Running DiffSizeAnalalysis on commit 865c306e063a4074aaaac016f6b2eaaae37751d9 (4/12)\n",
      "Running FileCountAnalysis on commit 865c306e063a4074aaaac016f6b2eaaae37751d9 (4/12)\n",
      "Running FileNameAnalysis on commit 865c306e063a4074aaaac016f6b2eaaae37751d9 (4/12)\n",
      "Running Pylint on commit 865c306e063a4074aaaac016f6b2eaaae37751d9 (4/12)\n",
      "Running LineCountAnalysis on commit 9c5407aeb1ee97884d0c14ebe7e01c83d62e72c4 (5/12)\n",
      "Running DiskUsageAnalysis on commit 9c5407aeb1ee97884d0c14ebe7e01c83d62e72c4 (5/12)\n",
      "Running DiffSizeAnalalysis on commit 9c5407aeb1ee97884d0c14ebe7e01c83d62e72c4 (5/12)\n",
      "Running FileCountAnalysis on commit 9c5407aeb1ee97884d0c14ebe7e01c83d62e72c4 (5/12)\n",
      "Running FileNameAnalysis on commit 9c5407aeb1ee97884d0c14ebe7e01c83d62e72c4 (5/12)\n",
      "Running Pylint on commit 9c5407aeb1ee97884d0c14ebe7e01c83d62e72c4 (5/12)\n",
      "Running LineCountAnalysis on commit 2cb4085f720271652d2570104c7f6dde580f80ca (6/12)\n",
      "Running DiskUsageAnalysis on commit 2cb4085f720271652d2570104c7f6dde580f80ca (6/12)\n",
      "Running DiffSizeAnalalysis on commit 2cb4085f720271652d2570104c7f6dde580f80ca (6/12)\n",
      "Running FileCountAnalysis on commit 2cb4085f720271652d2570104c7f6dde580f80ca (6/12)\n",
      "Running FileNameAnalysis on commit 2cb4085f720271652d2570104c7f6dde580f80ca (6/12)\n",
      "Running Pylint on commit 2cb4085f720271652d2570104c7f6dde580f80ca (6/12)\n",
      "Running LineCountAnalysis on commit 357cbba13007afa3059eaeb3bdbd7c6e6e723973 (7/12)\n",
      "Running DiskUsageAnalysis on commit 357cbba13007afa3059eaeb3bdbd7c6e6e723973 (7/12)\n",
      "Running DiffSizeAnalalysis on commit 357cbba13007afa3059eaeb3bdbd7c6e6e723973 (7/12)\n",
      "Running FileCountAnalysis on commit 357cbba13007afa3059eaeb3bdbd7c6e6e723973 (7/12)\n",
      "Running FileNameAnalysis on commit 357cbba13007afa3059eaeb3bdbd7c6e6e723973 (7/12)\n",
      "Running Pylint on commit 357cbba13007afa3059eaeb3bdbd7c6e6e723973 (7/12)\n",
      "Running LineCountAnalysis on commit b4574688f051fe61b0fc8471f3ed100d7a93cf6b (8/12)\n",
      "Running DiskUsageAnalysis on commit b4574688f051fe61b0fc8471f3ed100d7a93cf6b (8/12)\n",
      "Running DiffSizeAnalalysis on commit b4574688f051fe61b0fc8471f3ed100d7a93cf6b (8/12)\n",
      "Running FileCountAnalysis on commit b4574688f051fe61b0fc8471f3ed100d7a93cf6b (8/12)\n",
      "Running FileNameAnalysis on commit b4574688f051fe61b0fc8471f3ed100d7a93cf6b (8/12)\n",
      "Running Pylint on commit b4574688f051fe61b0fc8471f3ed100d7a93cf6b (8/12)\n",
      "Running LineCountAnalysis on commit e6568308c557035e5b4e8de49b0483d0f863e9bd (9/12)\n",
      "Running DiskUsageAnalysis on commit e6568308c557035e5b4e8de49b0483d0f863e9bd (9/12)\n",
      "Running DiffSizeAnalalysis on commit e6568308c557035e5b4e8de49b0483d0f863e9bd (9/12)\n",
      "Running FileCountAnalysis on commit e6568308c557035e5b4e8de49b0483d0f863e9bd (9/12)\n",
      "Running FileNameAnalysis on commit e6568308c557035e5b4e8de49b0483d0f863e9bd (9/12)\n",
      "Running Pylint on commit e6568308c557035e5b4e8de49b0483d0f863e9bd (9/12)\n",
      "Running LineCountAnalysis on commit f946bfb0c8c68f6bd49cc5d7a1adfff451e631d8 (10/12)\n",
      "Running DiskUsageAnalysis on commit f946bfb0c8c68f6bd49cc5d7a1adfff451e631d8 (10/12)\n",
      "Running DiffSizeAnalalysis on commit f946bfb0c8c68f6bd49cc5d7a1adfff451e631d8 (10/12)\n",
      "Running FileCountAnalysis on commit f946bfb0c8c68f6bd49cc5d7a1adfff451e631d8 (10/12)\n",
      "Running FileNameAnalysis on commit f946bfb0c8c68f6bd49cc5d7a1adfff451e631d8 (10/12)\n",
      "Running Pylint on commit f946bfb0c8c68f6bd49cc5d7a1adfff451e631d8 (10/12)\n",
      "Running LineCountAnalysis on commit 3a27c0aa2b0761b9f8ac9f277f876061c2ab9c1f (11/12)\n",
      "Running DiskUsageAnalysis on commit 3a27c0aa2b0761b9f8ac9f277f876061c2ab9c1f (11/12)\n",
      "Running DiffSizeAnalalysis on commit 3a27c0aa2b0761b9f8ac9f277f876061c2ab9c1f (11/12)\n",
      "Running FileCountAnalysis on commit 3a27c0aa2b0761b9f8ac9f277f876061c2ab9c1f (11/12)\n",
      "Running FileNameAnalysis on commit 3a27c0aa2b0761b9f8ac9f277f876061c2ab9c1f (11/12)\n",
      "Running Pylint on commit 3a27c0aa2b0761b9f8ac9f277f876061c2ab9c1f (11/12)\n",
      "Running LineCountAnalysis on commit 6fabbad73f927d7921cb83e9ac382c6194aae9dc (12/12)\n",
      "Running DiskUsageAnalysis on commit 6fabbad73f927d7921cb83e9ac382c6194aae9dc (12/12)\n",
      "Running DiffSizeAnalalysis on commit 6fabbad73f927d7921cb83e9ac382c6194aae9dc (12/12)\n",
      "Running FileCountAnalysis on commit 6fabbad73f927d7921cb83e9ac382c6194aae9dc (12/12)\n",
      "Running FileNameAnalysis on commit 6fabbad73f927d7921cb83e9ac382c6194aae9dc (12/12)\n",
      "Running Pylint on commit 6fabbad73f927d7921cb83e9ac382c6194aae9dc (12/12)\n"
     ]
    }
   ],
   "source": [
    "client = docker.from_env()\n",
    "\n",
    "runner = Runner(client, 'hist', [\n",
    "    LineCountAnalysis(\"py\"),\n",
    "    DiskUsageAnalysis(),\n",
    "    DiffSizeAnalalysis(),\n",
    "    FileCountAnalysis(\"py\"),\n",
    "    FileNameAnalysis(\"py\"),\n",
    "    Pylint(),\n",
    "])\n",
    "\n",
    "results = runner.analyze()\n"
   ]
  },
  {
   "cell_type": "code",
   "execution_count": 4,
   "metadata": {},
   "outputs": [
    {
     "data": {
      "text/html": [
       "<div>\n",
       "<style>\n",
       "    .dataframe thead tr:only-child th {\n",
       "        text-align: right;\n",
       "    }\n",
       "\n",
       "    .dataframe thead th {\n",
       "        text-align: left;\n",
       "    }\n",
       "\n",
       "    .dataframe tbody tr th {\n",
       "        vertical-align: top;\n",
       "    }\n",
       "</style>\n",
       "<table border=\"1\" class=\"dataframe\">\n",
       "  <thead>\n",
       "    <tr style=\"text-align: right;\">\n",
       "      <th></th>\n",
       "      <th>git_hash</th>\n",
       "      <th>date</th>\n",
       "      <th>description</th>\n",
       "      <th>author</th>\n",
       "      <th>lines</th>\n",
       "      <th>file_size</th>\n",
       "      <th>diff_size</th>\n",
       "      <th>files</th>\n",
       "      <th>filenames</th>\n",
       "      <th>pylint</th>\n",
       "    </tr>\n",
       "  </thead>\n",
       "  <tbody>\n",
       "    <tr>\n",
       "      <th>0</th>\n",
       "      <td>6ec43e7fa2c9e68d3d31d23c497be77377d0d372</td>\n",
       "      <td>1496102546</td>\n",
       "      <td>Add pylint builtin</td>\n",
       "      <td>patrickoyarzun@gmail.com</td>\n",
       "      <td>236</td>\n",
       "      <td>628K\\ttotal</td>\n",
       "      <td>69</td>\n",
       "      <td>3</td>\n",
       "      <td>[./built_in_analysis.py, ./main.py, ./analysis...</td>\n",
       "      <td>9.21</td>\n",
       "    </tr>\n",
       "    <tr>\n",
       "      <th>1</th>\n",
       "      <td>17f9a985645f4e9f756fa8a35cf1fdd37e5e323a</td>\n",
       "      <td>1496098300</td>\n",
       "      <td>Much cleaner Analysis interface</td>\n",
       "      <td>patrickoyarzun@gmail.com</td>\n",
       "      <td>233</td>\n",
       "      <td>628K\\ttotal</td>\n",
       "      <td>306</td>\n",
       "      <td>3</td>\n",
       "      <td>[./built_in_analysis.py, ./main.py, ./analysis...</td>\n",
       "      <td>9.22</td>\n",
       "    </tr>\n",
       "    <tr>\n",
       "      <th>2</th>\n",
       "      <td>fa5396130dd09ed44c1aa0ff1a8a44a0f4632555</td>\n",
       "      <td>1496073193</td>\n",
       "      <td>Split analysis modules into seperate files</td>\n",
       "      <td>patrickoyarzun@gmail.com</td>\n",
       "      <td>349</td>\n",
       "      <td>632K\\ttotal</td>\n",
       "      <td>195</td>\n",
       "      <td>3</td>\n",
       "      <td>[./built_in_analysis.py, ./main.py, ./analysis...</td>\n",
       "      <td>8.80</td>\n",
       "    </tr>\n",
       "    <tr>\n",
       "      <th>3</th>\n",
       "      <td>865c306e063a4074aaaac016f6b2eaaae37751d9</td>\n",
       "      <td>1496070587</td>\n",
       "      <td>Clean up containers incrementally</td>\n",
       "      <td>patrickoyarzun@gmail.com</td>\n",
       "      <td>172</td>\n",
       "      <td>624K\\ttotal</td>\n",
       "      <td>19</td>\n",
       "      <td>1</td>\n",
       "      <td>[./main.py]</td>\n",
       "      <td>8.97</td>\n",
       "    </tr>\n",
       "    <tr>\n",
       "      <th>4</th>\n",
       "      <td>9c5407aeb1ee97884d0c14ebe7e01c83d62e72c4</td>\n",
       "      <td>1496070142</td>\n",
       "      <td>Added diff size and file count analysis</td>\n",
       "      <td>patrickoyarzun@gmail.com</td>\n",
       "      <td>170</td>\n",
       "      <td>624K\\ttotal</td>\n",
       "      <td>100</td>\n",
       "      <td>1</td>\n",
       "      <td>[./main.py]</td>\n",
       "      <td>8.94</td>\n",
       "    </tr>\n",
       "    <tr>\n",
       "      <th>5</th>\n",
       "      <td>2cb4085f720271652d2570104c7f6dde580f80ca</td>\n",
       "      <td>1496023596</td>\n",
       "      <td>Flush progress as it happens</td>\n",
       "      <td>patrickoyarzun@gmail.com</td>\n",
       "      <td>129</td>\n",
       "      <td>620K\\ttotal</td>\n",
       "      <td>31</td>\n",
       "      <td>1</td>\n",
       "      <td>[./main.py]</td>\n",
       "      <td>8.59</td>\n",
       "    </tr>\n",
       "    <tr>\n",
       "      <th>6</th>\n",
       "      <td>357cbba13007afa3059eaeb3bdbd7c6e6e723973</td>\n",
       "      <td>1496022663</td>\n",
       "      <td>Add Readme</td>\n",
       "      <td>patrickoyarzun@gmail.com</td>\n",
       "      <td>126</td>\n",
       "      <td>620K\\ttotal</td>\n",
       "      <td>24</td>\n",
       "      <td>1</td>\n",
       "      <td>[./main.py]</td>\n",
       "      <td>8.39</td>\n",
       "    </tr>\n",
       "    <tr>\n",
       "      <th>7</th>\n",
       "      <td>b4574688f051fe61b0fc8471f3ed100d7a93cf6b</td>\n",
       "      <td>1496022303</td>\n",
       "      <td>Fix bug in test script</td>\n",
       "      <td>patrickoyarzun@gmail.com</td>\n",
       "      <td>126</td>\n",
       "      <td>616K\\ttotal</td>\n",
       "      <td>19</td>\n",
       "      <td>1</td>\n",
       "      <td>[./main.py]</td>\n",
       "      <td>8.39</td>\n",
       "    </tr>\n",
       "    <tr>\n",
       "      <th>8</th>\n",
       "      <td>e6568308c557035e5b4e8de49b0483d0f863e9bd</td>\n",
       "      <td>1496021224</td>\n",
       "      <td>Write output to timestamped csv</td>\n",
       "      <td>patrickoyarzun@gmail.com</td>\n",
       "      <td>126</td>\n",
       "      <td>616K\\ttotal</td>\n",
       "      <td>104</td>\n",
       "      <td>1</td>\n",
       "      <td>[./main.py]</td>\n",
       "      <td>8.39</td>\n",
       "    </tr>\n",
       "    <tr>\n",
       "      <th>9</th>\n",
       "      <td>f946bfb0c8c68f6bd49cc5d7a1adfff451e631d8</td>\n",
       "      <td>1496019242</td>\n",
       "      <td>Add pandas, cleaner analysis interface</td>\n",
       "      <td>patrickoyarzun@gmail.com</td>\n",
       "      <td>113</td>\n",
       "      <td>616K\\ttotal</td>\n",
       "      <td>167</td>\n",
       "      <td>1</td>\n",
       "      <td>[./main.py]</td>\n",
       "      <td>9.12</td>\n",
       "    </tr>\n",
       "    <tr>\n",
       "      <th>10</th>\n",
       "      <td>3a27c0aa2b0761b9f8ac9f277f876061c2ab9c1f</td>\n",
       "      <td>1495949078</td>\n",
       "      <td>Pluggable analysis</td>\n",
       "      <td>patrickoyarzun@gmail.com</td>\n",
       "      <td>73</td>\n",
       "      <td>616K\\ttotal</td>\n",
       "      <td>86</td>\n",
       "      <td>1</td>\n",
       "      <td>[./main.py]</td>\n",
       "      <td>5.68</td>\n",
       "    </tr>\n",
       "    <tr>\n",
       "      <th>11</th>\n",
       "      <td>6fabbad73f927d7921cb83e9ac382c6194aae9dc</td>\n",
       "      <td>1495946946</td>\n",
       "      <td>Iterate through commits and count lines</td>\n",
       "      <td>patrickoyarzun@gmail.com</td>\n",
       "      <td>46</td>\n",
       "      <td>616K\\ttotal</td>\n",
       "      <td>93</td>\n",
       "      <td>1</td>\n",
       "      <td>[./main.py]</td>\n",
       "      <td>7.93</td>\n",
       "    </tr>\n",
       "  </tbody>\n",
       "</table>\n",
       "</div>"
      ],
      "text/plain": [
       "                                    git_hash        date  \\\n",
       "0   6ec43e7fa2c9e68d3d31d23c497be77377d0d372  1496102546   \n",
       "1   17f9a985645f4e9f756fa8a35cf1fdd37e5e323a  1496098300   \n",
       "2   fa5396130dd09ed44c1aa0ff1a8a44a0f4632555  1496073193   \n",
       "3   865c306e063a4074aaaac016f6b2eaaae37751d9  1496070587   \n",
       "4   9c5407aeb1ee97884d0c14ebe7e01c83d62e72c4  1496070142   \n",
       "5   2cb4085f720271652d2570104c7f6dde580f80ca  1496023596   \n",
       "6   357cbba13007afa3059eaeb3bdbd7c6e6e723973  1496022663   \n",
       "7   b4574688f051fe61b0fc8471f3ed100d7a93cf6b  1496022303   \n",
       "8   e6568308c557035e5b4e8de49b0483d0f863e9bd  1496021224   \n",
       "9   f946bfb0c8c68f6bd49cc5d7a1adfff451e631d8  1496019242   \n",
       "10  3a27c0aa2b0761b9f8ac9f277f876061c2ab9c1f  1495949078   \n",
       "11  6fabbad73f927d7921cb83e9ac382c6194aae9dc  1495946946   \n",
       "\n",
       "                                   description                    author  \\\n",
       "0                           Add pylint builtin  patrickoyarzun@gmail.com   \n",
       "1              Much cleaner Analysis interface  patrickoyarzun@gmail.com   \n",
       "2   Split analysis modules into seperate files  patrickoyarzun@gmail.com   \n",
       "3            Clean up containers incrementally  patrickoyarzun@gmail.com   \n",
       "4      Added diff size and file count analysis  patrickoyarzun@gmail.com   \n",
       "5                 Flush progress as it happens  patrickoyarzun@gmail.com   \n",
       "6                                   Add Readme  patrickoyarzun@gmail.com   \n",
       "7                       Fix bug in test script  patrickoyarzun@gmail.com   \n",
       "8              Write output to timestamped csv  patrickoyarzun@gmail.com   \n",
       "9       Add pandas, cleaner analysis interface  patrickoyarzun@gmail.com   \n",
       "10                          Pluggable analysis  patrickoyarzun@gmail.com   \n",
       "11     Iterate through commits and count lines  patrickoyarzun@gmail.com   \n",
       "\n",
       "    lines    file_size  diff_size  files  \\\n",
       "0     236  628K\\ttotal         69      3   \n",
       "1     233  628K\\ttotal        306      3   \n",
       "2     349  632K\\ttotal        195      3   \n",
       "3     172  624K\\ttotal         19      1   \n",
       "4     170  624K\\ttotal        100      1   \n",
       "5     129  620K\\ttotal         31      1   \n",
       "6     126  620K\\ttotal         24      1   \n",
       "7     126  616K\\ttotal         19      1   \n",
       "8     126  616K\\ttotal        104      1   \n",
       "9     113  616K\\ttotal        167      1   \n",
       "10     73  616K\\ttotal         86      1   \n",
       "11     46  616K\\ttotal         93      1   \n",
       "\n",
       "                                            filenames  pylint  \n",
       "0   [./built_in_analysis.py, ./main.py, ./analysis...    9.21  \n",
       "1   [./built_in_analysis.py, ./main.py, ./analysis...    9.22  \n",
       "2   [./built_in_analysis.py, ./main.py, ./analysis...    8.80  \n",
       "3                                         [./main.py]    8.97  \n",
       "4                                         [./main.py]    8.94  \n",
       "5                                         [./main.py]    8.59  \n",
       "6                                         [./main.py]    8.39  \n",
       "7                                         [./main.py]    8.39  \n",
       "8                                         [./main.py]    8.39  \n",
       "9                                         [./main.py]    9.12  \n",
       "10                                        [./main.py]    5.68  \n",
       "11                                        [./main.py]    7.93  "
      ]
     },
     "execution_count": 4,
     "metadata": {},
     "output_type": "execute_result"
    }
   ],
   "source": [
    "results"
   ]
  },
  {
   "cell_type": "code",
   "execution_count": 6,
   "metadata": {},
   "outputs": [
    {
     "data": {
      "text/plain": [
       "<matplotlib.axes._subplots.AxesSubplot at 0x7f819a94fa10>"
      ]
     },
     "execution_count": 6,
     "metadata": {},
     "output_type": "execute_result"
    },
    {
     "data": {
      "image/png": "[encoded data removed]",
      "text/plain": [
       "<matplotlib.figure.Figure at 0x7f819a962a90>"
      ]
     },
     "metadata": {},
     "output_type": "display_data"
    }
   ],
   "source": [
    "%matplotlib inline\n",
    "results.plot(x='date', y='lines')"
   ]
  },
  {
   "cell_type": "code",
   "execution_count": 12,
   "metadata": {},
   "outputs": [],
   "source": [
    "results['hum_date'] = pandas.to_datetime(results['date'], unit='s')"
   ]
  },
  {
   "cell_type": "code",
   "execution_count": 13,
   "metadata": {},
   "outputs": [
    {
     "data": {
      "text/plain": [
       "<matplotlib.axes._subplots.AxesSubplot at 0x7f8199fd7390>"
      ]
     },
     "execution_count": 13,
     "metadata": {},
     "output_type": "execute_result"
    },
    {
     "data": {
      "image/png": "[encoded data removed]",
      "text/plain": [
       "<matplotlib.figure.Figure at 0x7f8199fd75d0>"
      ]
     },
     "metadata": {},
     "output_type": "display_data"
    }
   ],
   "source": [
    "results.plot(x='hum_date', y='lines')"
   ]
  },
  {
   "cell_type": "code",
   "execution_count": 14,
   "metadata": {},
   "outputs": [
    {
     "data": {
      "text/plain": [
       "count     12.000000\n",
       "mean     101.083333\n",
       "std       85.714599\n",
       "min       19.000000\n",
       "25%       29.250000\n",
       "50%       89.500000\n",
       "75%      119.750000\n",
       "max      306.000000\n",
       "Name: diff_size, dtype: float64"
      ]
     },
     "execution_count": 14,
     "metadata": {},
     "output_type": "execute_result"
    }
   ],
   "source": [
    "results['diff_size'].describe()"
   ]
  },
  {
   "cell_type": "code",
   "execution_count": 24,
   "metadata": {},
   "outputs": [],
   "source": [
    "import numpy as np\n",
    "frame = results\n",
    "first_commit_date = frame['hum_date'].min()\n",
    "\n",
    "frame['week'] = ((frame['hum_date'] - first_commit_date) /\n",
    "                 pandas.Timedelta('7 days')).apply(np.floor)\n"
   ]
  },
  {
   "cell_type": "code",
   "execution_count": 26,
   "metadata": {},
   "outputs": [
    {
     "data": {
      "text/plain": [
       "week\n",
       "0.0    12\n",
       "dtype: int64"
      ]
     },
     "execution_count": 26,
     "metadata": {},
     "output_type": "execute_result"
    }
   ],
   "source": [
    "# could be a proxy for velocity:\n",
    "frame.groupby('week').size()"
   ]
  },
  {
   "cell_type": "code",
   "execution_count": null,
   "metadata": {
    "collapsed": true
   },
   "outputs": [],
   "source": []
  }
 ],
 "metadata": {
  "kernelspec": {
   "display_name": "Python 2",
   "language": "python",
   "name": "python2"
  },
  "language_info": {
   "codemirror_mode": {
    "name": "ipython",
    "version": 2
   },
   "file_extension": ".py",
   "mimetype": "text/x-python",
   "name": "python",
   "nbconvert_exporter": "python",
   "pygments_lexer": "ipython2",
   "version": "2.7.12"
  }
 },
 "nbformat": 4,
 "nbformat_minor": 2
}
